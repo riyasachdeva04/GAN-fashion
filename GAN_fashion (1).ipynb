{
  "nbformat": 4,
  "nbformat_minor": 0,
  "metadata": {
    "colab": {
      "provenance": []
    },
    "kernelspec": {
      "name": "python3",
      "display_name": "Python 3"
    },
    "language_info": {
      "name": "python"
    }
  },
  "cells": [
    {
      "cell_type": "code",
      "execution_count": null,
      "metadata": {
        "id": "ruuEeaHY7J-y"
      },
      "outputs": [],
      "source": [
        "import torch\n",
        "import torch.nn as nn\n",
        "import torch.optim as optim\n",
        "from torch.utils.data import DataLoader\n",
        "from torchvision import datasets, transforms\n"
      ]
    },
    {
      "cell_type": "code",
      "source": [
        "#generator and discriminator\n",
        "\n",
        "# Define the Generator network\n",
        "class Generator(nn.Module):\n",
        "    def __init__(self, input_dim, output_dim, hidden_dim):\n",
        "        super(Generator, self).__init__()\n",
        "        self.fc = nn.Sequential(\n",
        "            nn.Linear(input_dim, hidden_dim),\n",
        "            nn.ReLU(inplace=True),\n",
        "            nn.Linear(hidden_dim, hidden_dim),\n",
        "            nn.ReLU(inplace=True),\n",
        "            nn.Linear(hidden_dim, output_dim),\n",
        "            nn.Tanh()\n",
        "        )\n",
        "\n",
        "    def forward(self, x):\n",
        "        x = self.fc(x)\n",
        "        return x\n",
        "\n",
        "# Define the Discriminator network\n",
        "class Discriminator(nn.Module):\n",
        "    def __init__(self, input_dim, hidden_dim):\n",
        "        super(Discriminator, self).__init__()\n",
        "        self.fc = nn.Sequential(\n",
        "            nn.Linear(input_dim, hidden_dim),\n",
        "            nn.LeakyReLU(0.2, inplace=True),\n",
        "            nn.Linear(hidden_dim, hidden_dim),\n",
        "            nn.LeakyReLU(0.2, inplace=True),\n",
        "            nn.Linear(hidden_dim, 1),\n",
        "            nn.Sigmoid()\n",
        "        )\n",
        "\n",
        "    def forward(self, x):\n",
        "        x = self.fc(x)\n",
        "        return x\n",
        "\n"
      ],
      "metadata": {
        "id": "jtZRe6bm8VP2"
      },
      "execution_count": null,
      "outputs": []
    },
    {
      "cell_type": "code",
      "source": [
        "input_dim = 100\n",
        "output_dim = 784\n",
        "hidden_dim = 128\n",
        "lr = 0.00002\n",
        "batch_size = 64\n",
        "num_epochs = 50"
      ],
      "metadata": {
        "id": "OUzKtn9E-W-7"
      },
      "execution_count": null,
      "outputs": []
    },
    {
      "cell_type": "code",
      "source": [
        "\n",
        "# Create instances of the generator and discriminator networks\n",
        "generator = Generator(input_dim, output_dim, hidden_dim)\n",
        "discriminator = Discriminator(output_dim, hidden_dim)\n"
      ],
      "metadata": {
        "id": "h73LEddf-gJo"
      },
      "execution_count": null,
      "outputs": []
    },
    {
      "cell_type": "code",
      "source": [
        "# Define the loss function (BCELoss) and the optimizers (Adam) for generator and discriminator\n",
        "criterion = nn.BCELoss()\n",
        "generator_optimizer = optim.Adam(generator.parameters(), lr=lr)\n",
        "discriminator_optimizer = optim.Adam(discriminator.parameters(), lr=lr)"
      ],
      "metadata": {
        "id": "KFUasZMi-kFz"
      },
      "execution_count": null,
      "outputs": []
    },
    {
      "cell_type": "code",
      "source": [
        "# Load the Fashion MNIST dataset\n",
        "transform = transforms.Compose([\n",
        "    transforms.ToTensor(),\n",
        "    transforms.Normalize((0.5,), (0.5,))\n",
        "])\n",
        "\n",
        "train_dataset = datasets.FashionMNIST(\n",
        "    root='path/to/dataset',\n",
        "    train=True,\n",
        "    download=True,\n",
        "    transform=transform\n",
        ")\n",
        "\n",
        "train_loader = DataLoader(\n",
        "    dataset=train_dataset,\n",
        "    batch_size=batch_size,\n",
        "    shuffle=True\n",
        ")"
      ],
      "metadata": {
        "id": "VE6rkWLh-lcQ"
      },
      "execution_count": null,
      "outputs": []
    },
    {
      "cell_type": "code",
      "source": [
        "# Generate new samples\n",
        "num_samples = 10\n",
        "noise = torch.randn(num_samples, input_dim)\n",
        "generated_images = generator(noise)"
      ],
      "metadata": {
        "id": "_9WeCC7S_6iU"
      },
      "execution_count": null,
      "outputs": []
    },
    {
      "cell_type": "code",
      "source": [
        "# Training loop\n",
        "for epoch in range(num_epochs):\n",
        "    generator.train()\n",
        "    discriminator.train()\n",
        "\n",
        "    for batch_idx, (real_images, _) in enumerate(train_loader):\n",
        "        batch_size = real_images.size(0)\n",
        "        real_labels = torch.ones(batch_size, 1)\n",
        "        fake_labels = torch.zeros(batch_size, 1)\n",
        "\n",
        "        # Train the discriminator\n",
        "        discriminator_optimizer.zero_grad()\n",
        "\n",
        "        real_outputs = discriminator(real_images.view(batch_size, -1))\n",
        "        real_loss = criterion(real_outputs, real_labels)\n",
        "\n",
        "        noise = torch.randn(batch_size, input_dim)\n",
        "        fake_images = generator(noise)\n",
        "        fake_outputs = discriminator(fake_images.detach())\n",
        "        fake_loss = criterion(fake_outputs, fake_labels)\n",
        "\n",
        "        discriminator_loss = real_loss + fake_loss\n",
        "        discriminator_loss.backward()\n",
        "        discriminator_optimizer.step()\n",
        "\n",
        "        # Train the generator\n",
        "        generator_optimizer.zero_grad()\n",
        "\n",
        "        fake_outputs = discriminator(fake_images)\n",
        "        generator_loss = criterion(fake_outputs, real_labels)\n",
        "\n",
        "        generator_loss.backward()\n",
        "        generator_optimizer.step()\n",
        "\n",
        "    # Print progress and losses\n",
        "    print(f\"Epoch [{epoch+1}/{num_epochs}], Generator Loss: {generator_loss.item():.4f}, Discriminator Loss: {discriminator_loss.item():.4f}\")\n"
      ],
      "metadata": {
        "id": "OwpnHusmAKy0"
      },
      "execution_count": null,
      "outputs": []
    },
    {
      "cell_type": "code",
      "source": [
        "#@title\n",
        "import pickle\n",
        "\n",
        "# Specify the file path for saving the generator model\n",
        "generator_path = 'generator_model.pkl'\n",
        "\n",
        "# Save the generator model\n",
        "with open(generator_path, 'wb') as f:\n",
        "    pickle.dump(generator, f)\n"
      ],
      "metadata": {
        "id": "c2IsA7I0PWR3"
      },
      "execution_count": null,
      "outputs": []
    }
  ]
}
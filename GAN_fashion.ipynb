{
  "nbformat": 4,
  "nbformat_minor": 0,
  "metadata": {
    "colab": {
      "provenance": [],
      "authorship_tag": "ABX9TyOFeMmXfpmIHDbWkYuK26Ni",
      "include_colab_link": true
    },
    "kernelspec": {
      "name": "python3",
      "display_name": "Python 3"
    },
    "language_info": {
      "name": "python"
    }
  },
  "cells": [
    {
      "cell_type": "markdown",
      "metadata": {
        "id": "view-in-github",
        "colab_type": "text"
      },
      "source": [
        "<a href=\"https://colab.research.google.com/github/riyasachdeva04/GAN-fashionMNIST/blob/main/GAN_fashion.ipynb\" target=\"_parent\"><img src=\"https://colab.research.google.com/assets/colab-badge.svg\" alt=\"Open In Colab\"/></a>"
      ]
    },
    {
      "cell_type": "code",
      "execution_count": 1,
      "metadata": {
        "id": "ruuEeaHY7J-y"
      },
      "outputs": [],
      "source": [
        "import torch\n",
        "import torch.nn as nn\n",
        "import torch.optim as optim\n",
        "from torch.utils.data import DataLoader\n",
        "from torchvision import datasets, transforms\n"
      ]
    },
    {
      "cell_type": "code",
      "source": [
        "#generator and discriminator\n",
        "\n",
        "# Define the Generator network\n",
        "class Generator(nn.Module):\n",
        "    def __init__(self, input_dim, output_dim, hidden_dim):\n",
        "        super(Generator, self).__init__()\n",
        "        self.fc = nn.Sequential(\n",
        "            nn.Linear(input_dim, hidden_dim),\n",
        "            nn.ReLU(inplace=True),\n",
        "            nn.Linear(hidden_dim, hidden_dim),\n",
        "            nn.ReLU(inplace=True),\n",
        "            nn.Linear(hidden_dim, output_dim),\n",
        "            nn.Tanh()\n",
        "        )\n",
        "\n",
        "    def forward(self, x):\n",
        "        x = self.fc(x)\n",
        "        return x\n",
        "\n",
        "# Define the Discriminator network\n",
        "class Discriminator(nn.Module):\n",
        "    def __init__(self, input_dim, hidden_dim):\n",
        "        super(Discriminator, self).__init__()\n",
        "        self.fc = nn.Sequential(\n",
        "            nn.Linear(input_dim, hidden_dim),\n",
        "            nn.LeakyReLU(0.2, inplace=True),\n",
        "            nn.Linear(hidden_dim, hidden_dim),\n",
        "            nn.LeakyReLU(0.2, inplace=True),\n",
        "            nn.Linear(hidden_dim, 1),\n",
        "            nn.Sigmoid()\n",
        "        )\n",
        "\n",
        "    def forward(self, x):\n",
        "        x = self.fc(x)\n",
        "        return x\n",
        "\n"
      ],
      "metadata": {
        "id": "jtZRe6bm8VP2"
      },
      "execution_count": 2,
      "outputs": []
    },
    {
      "cell_type": "code",
      "source": [
        "input_dim = 100\n",
        "output_dim = 784\n",
        "hidden_dim = 128\n",
        "lr = 0.00002\n",
        "batch_size = 64\n",
        "num_epochs = 50"
      ],
      "metadata": {
        "id": "OUzKtn9E-W-7"
      },
      "execution_count": 19,
      "outputs": []
    },
    {
      "cell_type": "code",
      "source": [
        "\n",
        "# Create instances of the generator and discriminator networks\n",
        "generator = Generator(input_dim, output_dim, hidden_dim)\n",
        "discriminator = Discriminator(output_dim, hidden_dim)\n"
      ],
      "metadata": {
        "id": "h73LEddf-gJo"
      },
      "execution_count": 20,
      "outputs": []
    },
    {
      "cell_type": "code",
      "source": [
        "# Define the loss function (BCELoss) and the optimizers (Adam) for generator and discriminator\n",
        "criterion = nn.BCELoss()\n",
        "generator_optimizer = optim.Adam(generator.parameters(), lr=lr)\n",
        "discriminator_optimizer = optim.Adam(discriminator.parameters(), lr=lr)"
      ],
      "metadata": {
        "id": "KFUasZMi-kFz"
      },
      "execution_count": 21,
      "outputs": []
    },
    {
      "cell_type": "code",
      "source": [
        "# Load the Fashion MNIST dataset\n",
        "transform = transforms.Compose([\n",
        "    transforms.ToTensor(),\n",
        "    transforms.Normalize((0.5,), (0.5,))\n",
        "])\n",
        "\n",
        "train_dataset = datasets.FashionMNIST(\n",
        "    root='path/to/dataset',\n",
        "    train=True,\n",
        "    download=True,\n",
        "    transform=transform\n",
        ")\n",
        "\n",
        "train_loader = DataLoader(\n",
        "    dataset=train_dataset,\n",
        "    batch_size=batch_size,\n",
        "    shuffle=True\n",
        ")"
      ],
      "metadata": {
        "id": "VE6rkWLh-lcQ"
      },
      "execution_count": 22,
      "outputs": []
    },
    {
      "cell_type": "code",
      "source": [
        "# Generate new samples\n",
        "num_samples = 10\n",
        "noise = torch.randn(num_samples, input_dim)\n",
        "generated_images = generator(noise)"
      ],
      "metadata": {
        "id": "_9WeCC7S_6iU"
      },
      "execution_count": 23,
      "outputs": []
    },
    {
      "cell_type": "code",
      "source": [
        "# Training loop\n",
        "for epoch in range(num_epochs):\n",
        "    generator.train()\n",
        "    discriminator.train()\n",
        "\n",
        "    for batch_idx, (real_images, _) in enumerate(train_loader):\n",
        "        batch_size = real_images.size(0)\n",
        "        real_labels = torch.ones(batch_size, 1)\n",
        "        fake_labels = torch.zeros(batch_size, 1)\n",
        "\n",
        "        # Train the discriminator\n",
        "        discriminator_optimizer.zero_grad()\n",
        "\n",
        "        real_outputs = discriminator(real_images.view(batch_size, -1))\n",
        "        real_loss = criterion(real_outputs, real_labels)\n",
        "\n",
        "        noise = torch.randn(batch_size, input_dim)\n",
        "        fake_images = generator(noise)\n",
        "        fake_outputs = discriminator(fake_images.detach())\n",
        "        fake_loss = criterion(fake_outputs, fake_labels)\n",
        "\n",
        "        discriminator_loss = real_loss + fake_loss\n",
        "        discriminator_loss.backward()\n",
        "        discriminator_optimizer.step()\n",
        "\n",
        "        # Train the generator\n",
        "        generator_optimizer.zero_grad()\n",
        "\n",
        "        fake_outputs = discriminator(fake_images)\n",
        "        generator_loss = criterion(fake_outputs, real_labels)\n",
        "\n",
        "        generator_loss.backward()\n",
        "        generator_optimizer.step()\n",
        "\n",
        "    # Print progress and losses\n",
        "    print(f\"Epoch [{epoch+1}/{num_epochs}], Generator Loss: {generator_loss.item():.4f}, Discriminator Loss: {discriminator_loss.item():.4f}\")\n"
      ],
      "metadata": {
        "colab": {
          "base_uri": "https://localhost:8080/"
        },
        "collapsed": true,
        "id": "OwpnHusmAKy0",
        "outputId": "787c0056-f22f-4df4-d412-74751a1d9d09"
      },
      "execution_count": 48,
      "outputs": [
        {
          "output_type": "stream",
          "name": "stdout",
          "text": [
            "Epoch [1/50], Generator Loss: 5.8167, Discriminator Loss: 0.0690\n",
            "Epoch [2/50], Generator Loss: 6.1390, Discriminator Loss: 0.1590\n",
            "Epoch [3/50], Generator Loss: 6.6509, Discriminator Loss: 0.0525\n",
            "Epoch [4/50], Generator Loss: 6.6306, Discriminator Loss: 0.0238\n",
            "Epoch [5/50], Generator Loss: 6.2727, Discriminator Loss: 0.0113\n",
            "Epoch [6/50], Generator Loss: 6.1292, Discriminator Loss: 0.0310\n",
            "Epoch [7/50], Generator Loss: 5.7599, Discriminator Loss: 0.0550\n",
            "Epoch [8/50], Generator Loss: 5.0983, Discriminator Loss: 0.0247\n",
            "Epoch [9/50], Generator Loss: 5.9629, Discriminator Loss: 0.2276\n",
            "Epoch [10/50], Generator Loss: 6.3016, Discriminator Loss: 0.0076\n",
            "Epoch [11/50], Generator Loss: 5.7303, Discriminator Loss: 0.1074\n",
            "Epoch [12/50], Generator Loss: 6.3677, Discriminator Loss: 0.0359\n",
            "Epoch [13/50], Generator Loss: 6.0761, Discriminator Loss: 0.0144\n",
            "Epoch [14/50], Generator Loss: 6.9600, Discriminator Loss: 0.0104\n",
            "Epoch [15/50], Generator Loss: 5.9968, Discriminator Loss: 0.0181\n",
            "Epoch [16/50], Generator Loss: 5.5042, Discriminator Loss: 0.0170\n",
            "Epoch [17/50], Generator Loss: 6.0682, Discriminator Loss: 0.1502\n",
            "Epoch [18/50], Generator Loss: 6.4706, Discriminator Loss: 0.0064\n",
            "Epoch [19/50], Generator Loss: 5.5771, Discriminator Loss: 0.0320\n",
            "Epoch [20/50], Generator Loss: 7.7808, Discriminator Loss: 0.1467\n",
            "Epoch [21/50], Generator Loss: 6.2790, Discriminator Loss: 0.0242\n",
            "Epoch [22/50], Generator Loss: 5.8526, Discriminator Loss: 0.0359\n",
            "Epoch [23/50], Generator Loss: 6.7424, Discriminator Loss: 0.0212\n",
            "Epoch [24/50], Generator Loss: 5.7570, Discriminator Loss: 0.1129\n",
            "Epoch [25/50], Generator Loss: 5.5802, Discriminator Loss: 0.0521\n",
            "Epoch [26/50], Generator Loss: 6.1356, Discriminator Loss: 0.0954\n",
            "Epoch [27/50], Generator Loss: 5.6362, Discriminator Loss: 0.0335\n",
            "Epoch [28/50], Generator Loss: 5.2934, Discriminator Loss: 0.0334\n",
            "Epoch [29/50], Generator Loss: 5.5919, Discriminator Loss: 0.1122\n",
            "Epoch [30/50], Generator Loss: 5.5464, Discriminator Loss: 0.1147\n",
            "Epoch [31/50], Generator Loss: 6.1032, Discriminator Loss: 0.0944\n",
            "Epoch [32/50], Generator Loss: 6.0412, Discriminator Loss: 0.0321\n",
            "Epoch [33/50], Generator Loss: 5.6154, Discriminator Loss: 0.0914\n",
            "Epoch [34/50], Generator Loss: 5.0006, Discriminator Loss: 0.0451\n",
            "Epoch [35/50], Generator Loss: 4.7342, Discriminator Loss: 0.0424\n",
            "Epoch [36/50], Generator Loss: 5.6725, Discriminator Loss: 0.0695\n",
            "Epoch [37/50], Generator Loss: 5.0663, Discriminator Loss: 0.1199\n",
            "Epoch [38/50], Generator Loss: 4.8647, Discriminator Loss: 0.0578\n",
            "Epoch [39/50], Generator Loss: 4.6744, Discriminator Loss: 0.0424\n",
            "Epoch [40/50], Generator Loss: 5.4006, Discriminator Loss: 0.1751\n",
            "Epoch [41/50], Generator Loss: 5.2051, Discriminator Loss: 0.0402\n",
            "Epoch [42/50], Generator Loss: 5.7575, Discriminator Loss: 0.0733\n",
            "Epoch [43/50], Generator Loss: 6.2390, Discriminator Loss: 0.0930\n",
            "Epoch [44/50], Generator Loss: 5.7734, Discriminator Loss: 0.3080\n",
            "Epoch [45/50], Generator Loss: 5.7849, Discriminator Loss: 0.1807\n",
            "Epoch [46/50], Generator Loss: 5.2760, Discriminator Loss: 0.1062\n",
            "Epoch [47/50], Generator Loss: 4.8920, Discriminator Loss: 0.0403\n",
            "Epoch [48/50], Generator Loss: 5.2012, Discriminator Loss: 0.0285\n",
            "Epoch [49/50], Generator Loss: 6.0987, Discriminator Loss: 0.0274\n",
            "Epoch [50/50], Generator Loss: 5.8642, Discriminator Loss: 0.0881\n"
          ]
        }
      ]
    },
    {
      "cell_type": "code",
      "source": [
        "#@title\n",
        "import pickle\n",
        "\n",
        "# Specify the file path for saving the generator model\n",
        "generator_path = 'generator_model.pkl'\n",
        "\n",
        "# Save the generator model\n",
        "with open(generator_path, 'wb') as f:\n",
        "    pickle.dump(generator, f)\n"
      ],
      "metadata": {
        "id": "c2IsA7I0PWR3"
      },
      "execution_count": 51,
      "outputs": []
    }
  ]
}